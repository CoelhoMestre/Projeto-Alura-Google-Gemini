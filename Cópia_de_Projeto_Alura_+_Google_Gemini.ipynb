{
  "nbformat": 4,
  "nbformat_minor": 0,
  "metadata": {
    "colab": {
      "provenance": [],
      "authorship_tag": "ABX9TyNWYNndCMyDy9VnYpdSPTWU",
      "include_colab_link": true
    },
    "kernelspec": {
      "name": "python3",
      "display_name": "Python 3"
    },
    "language_info": {
      "name": "python"
    }
  },
  "cells": [
    {
      "cell_type": "markdown",
      "metadata": {
        "id": "view-in-github",
        "colab_type": "text"
      },
      "source": [
        "<a href=\"https://colab.research.google.com/github/CoelhoMestre/Projeto-Alura-Google-Gemini/blob/main/C%C3%B3pia_de_Projeto_Alura_%2B_Google_Gemini.ipynb\" target=\"_parent\"><img src=\"https://colab.research.google.com/assets/colab-badge.svg\" alt=\"Open In Colab\"/></a>"
      ]
    },
    {
      "cell_type": "code",
      "execution_count": null,
      "metadata": {
        "id": "8eZ8mTAC4LUA"
      },
      "outputs": [],
      "source": [
        "%pip install -q -U google-generativeai"
      ]
    },
    {
      "cell_type": "code",
      "source": [
        "# Instalar Framework ADK de agentes do Google\n",
        "!pip install -q google-adk"
      ],
      "metadata": {
        "colab": {
          "base_uri": "https://localhost:8080/"
        },
        "id": "kjONDDQj5DKV",
        "outputId": "b270e1f6-acaf-4288-c932-dec6a2e0036e"
      },
      "execution_count": null,
      "outputs": [
        {
          "output_type": "stream",
          "name": "stdout",
          "text": [
            "\u001b[?25l   \u001b[90m━━━━━━━━━━━━━━━━━━━━━━━━━━━━━━━━━━━━━━━━\u001b[0m \u001b[32m0.0/1.2 MB\u001b[0m \u001b[31m?\u001b[0m eta \u001b[36m-:--:--\u001b[0m\r\u001b[2K   \u001b[91m━━━━━━━━━━━━━━\u001b[0m\u001b[91m╸\u001b[0m\u001b[90m━━━━━━━━━━━━━━━━━━━━━━━━━\u001b[0m \u001b[32m0.4/1.2 MB\u001b[0m \u001b[31m13.2 MB/s\u001b[0m eta \u001b[36m0:00:01\u001b[0m\r\u001b[2K   \u001b[90m━━━━━━━━━━━━━━━━━━━━━━━━━━━━━━━━━━━━━━━━\u001b[0m \u001b[32m1.2/1.2 MB\u001b[0m \u001b[31m17.9 MB/s\u001b[0m eta \u001b[36m0:00:00\u001b[0m\n",
            "\u001b[?25h\u001b[?25l   \u001b[90m━━━━━━━━━━━━━━━━━━━━━━━━━━━━━━━━━━━━━━━━\u001b[0m \u001b[32m0.0/232.1 kB\u001b[0m \u001b[31m?\u001b[0m eta \u001b[36m-:--:--\u001b[0m\r\u001b[2K   \u001b[90m━━━━━━━━━━━━━━━━━━━━━━━━━━━━━━━━━━━━━━━━\u001b[0m \u001b[32m232.1/232.1 kB\u001b[0m \u001b[31m19.6 MB/s\u001b[0m eta \u001b[36m0:00:00\u001b[0m\n",
            "\u001b[?25h\u001b[?25l   \u001b[90m━━━━━━━━━━━━━━━━━━━━━━━━━━━━━━━━━━━━━━━━\u001b[0m \u001b[32m0.0/95.2 kB\u001b[0m \u001b[31m?\u001b[0m eta \u001b[36m-:--:--\u001b[0m\r\u001b[2K   \u001b[90m━━━━━━━━━━━━━━━━━━━━━━━━━━━━━━━━━━━━━━━━\u001b[0m \u001b[32m95.2/95.2 kB\u001b[0m \u001b[31m8.3 MB/s\u001b[0m eta \u001b[36m0:00:00\u001b[0m\n",
            "\u001b[2K   \u001b[90m━━━━━━━━━━━━━━━━━━━━━━━━━━━━━━━━━━━━━━━━\u001b[0m \u001b[32m217.1/217.1 kB\u001b[0m \u001b[31m15.8 MB/s\u001b[0m eta \u001b[36m0:00:00\u001b[0m\n",
            "\u001b[2K   \u001b[90m━━━━━━━━━━━━━━━━━━━━━━━━━━━━━━━━━━━━━━━━\u001b[0m \u001b[32m334.1/334.1 kB\u001b[0m \u001b[31m25.8 MB/s\u001b[0m eta \u001b[36m0:00:00\u001b[0m\n",
            "\u001b[2K   \u001b[90m━━━━━━━━━━━━━━━━━━━━━━━━━━━━━━━━━━━━━━━━\u001b[0m \u001b[32m125.1/125.1 kB\u001b[0m \u001b[31m11.0 MB/s\u001b[0m eta \u001b[36m0:00:00\u001b[0m\n",
            "\u001b[2K   \u001b[90m━━━━━━━━━━━━━━━━━━━━━━━━━━━━━━━━━━━━━━━━\u001b[0m \u001b[32m65.8/65.8 kB\u001b[0m \u001b[31m5.6 MB/s\u001b[0m eta \u001b[36m0:00:00\u001b[0m\n",
            "\u001b[2K   \u001b[90m━━━━━━━━━━━━━━━━━━━━━━━━━━━━━━━━━━━━━━━━\u001b[0m \u001b[32m119.0/119.0 kB\u001b[0m \u001b[31m10.4 MB/s\u001b[0m eta \u001b[36m0:00:00\u001b[0m\n",
            "\u001b[2K   \u001b[90m━━━━━━━━━━━━━━━━━━━━━━━━━━━━━━━━━━━━━━━━\u001b[0m \u001b[32m194.9/194.9 kB\u001b[0m \u001b[31m15.7 MB/s\u001b[0m eta \u001b[36m0:00:00\u001b[0m\n",
            "\u001b[2K   \u001b[90m━━━━━━━━━━━━━━━━━━━━━━━━━━━━━━━━━━━━━━━━\u001b[0m \u001b[32m62.5/62.5 kB\u001b[0m \u001b[31m5.1 MB/s\u001b[0m eta \u001b[36m0:00:00\u001b[0m\n",
            "\u001b[2K   \u001b[90m━━━━━━━━━━━━━━━━━━━━━━━━━━━━━━━━━━━━━━━━\u001b[0m \u001b[32m103.3/103.3 kB\u001b[0m \u001b[31m9.2 MB/s\u001b[0m eta \u001b[36m0:00:00\u001b[0m\n",
            "\u001b[2K   \u001b[90m━━━━━━━━━━━━━━━━━━━━━━━━━━━━━━━━━━━━━━━━\u001b[0m \u001b[32m44.4/44.4 kB\u001b[0m \u001b[31m3.8 MB/s\u001b[0m eta \u001b[36m0:00:00\u001b[0m\n",
            "\u001b[2K   \u001b[90m━━━━━━━━━━━━━━━━━━━━━━━━━━━━━━━━━━━━━━━━\u001b[0m \u001b[32m72.0/72.0 kB\u001b[0m \u001b[31m6.6 MB/s\u001b[0m eta \u001b[36m0:00:00\u001b[0m\n",
            "\u001b[?25h"
          ]
        }
      ]
    },
    {
      "cell_type": "code",
      "source": [
        "import os\n",
        "from google.colab import userdata\n",
        "from google import genai\n",
        "from google.adk.agents import Agent\n",
        "from google.adk.runners import Runner\n",
        "from google.adk.sessions import InMemorySessionService\n",
        "from google.adk.tools import google_search\n",
        "from google.genai import types\n",
        "from datetime import date\n",
        "import textwrap\n",
        "from IPython.display import display, Markdown, HTML\n",
        "import requests\n",
        "import warnings\n",
        "\n",
        "\n",
        "\n",
        "warnings.filterwarnings(\"ignore\")"
      ],
      "metadata": {
        "id": "F-4pCB5z4w7F"
      },
      "execution_count": null,
      "outputs": []
    },
    {
      "cell_type": "code",
      "source": [
        "# Configuração da chave da API do Google\n",
        "os.environ[\"GOOGLE_API_KEY\"] = userdata.get('GOOGLE_API_KEY')\n",
        "client = genai.Client()\n",
        "MODEL_ID = \"gemini-2.0-flash\""
      ],
      "metadata": {
        "id": "ExFMXnLU5PNl"
      },
      "execution_count": null,
      "outputs": []
    },
    {
      "cell_type": "code",
      "source": [
        "# Função auxiliar que envia uma mensagem para um agente via Runner e retorna a resposta final\n",
        "def call_agent(agent: Agent, message_text: str) -> str:\n",
        "    # Cria um serviço de sessão em memória\n",
        "    session_service = InMemorySessionService()\n",
        "    # Cria uma nova sessão (você pode personalizar os IDs conforme necessário)\n",
        "    session = session_service.create_session(app_name=agent.name, user_id=\"user1\", session_id=\"session1\")\n",
        "    # Cria um Runner para o agente\n",
        "    runner = Runner(agent=agent, app_name=agent.name, session_service=session_service)\n",
        "    # Cria o conteúdo da mensagem de entrada\n",
        "    content = types.Content(role=\"user\", parts=[types.Part(text=message_text)])\n",
        "\n",
        "    final_response = \"\"\n",
        "    # Itera assincronamente pelos eventos retornados durante a execução do agente\n",
        "    for event in runner.run(user_id=\"user1\", session_id=\"session1\", new_message=content):\n",
        "        if event.is_final_response():\n",
        "          for part in event.content.parts:\n",
        "            if part.text is not None:\n",
        "              final_response += part.text\n",
        "              final_response += \"\\n\"\n",
        "    return final_response"
      ],
      "metadata": {
        "id": "Bn8mhJ1e5YcN"
      },
      "execution_count": null,
      "outputs": []
    },
    {
      "cell_type": "code",
      "source": [
        "# Função auxiliar para exibir texto formatado em Markdown no Colab\n",
        "def to_markdown(text):\n",
        "  text = text.replace('•', '  *')\n",
        "  return Markdown(textwrap.indent(text, '> ', predicate=lambda _: True))"
      ],
      "metadata": {
        "id": "LyLkSbiz5aZU"
      },
      "execution_count": null,
      "outputs": []
    },
    {
      "cell_type": "code",
      "source": [
        "#==============================================#\n",
        "#======= Agente 1: Buscador de Conteúdo =======#\n",
        "#==============================================#\n",
        "def agente_buscador(conteudo: str) -> str:\n",
        "    buscador = Agent(\n",
        "        name=\"agente_buscador\",\n",
        "        model=\"gemini-2.0-flash\",\n",
        "        instruction=\"\"\"\n",
        "        Você é um assistente de pesquisa especializado em gerar informações para quizzes educativos.\n",
        "        Utilize a ferramenta google_search no idioma portugues para encontrar conteúdo relevante sobre a [disciplina] e o tópico [conteúdo],\n",
        "        **Verifique se a disciplina tem relação com o conteúdo! Por exemplo, se o conteúdo for 2º guerra mundial de a disciplina for Artes,\n",
        "        vocé terá que relacionar a disciplina com o conteúdo** garantindo que as informações sejam adequadas para o nível de ensino correspondente.\n",
        "        Busque por uma visão geral do tema e identifique até [10] subtópicos ou conceitos chave importantes.\n",
        "        Gere um parágrafo introdutório com no máximo [10] frases, apresentando o tema principal de forma clara e concisa\n",
        "        e mencionando brevemente alguns dos subtópicos encontrados. Utilize uma linguagem acessível e destaque a relevância\n",
        "        do conteúdo para o aprendizado.\n",
        "        \"\"\",\n",
        "        description=\"Agente que busca informações no Google\",\n",
        "        tools=[google_search]\n",
        "    )\n",
        "    entrada = f\"Conteúdo: {conteudo}\"\n",
        "    informacoes = call_agent(buscador, entrada)\n",
        "    return informacoes"
      ],
      "metadata": {
        "id": "HJSqL6_m5qa8"
      },
      "execution_count": null,
      "outputs": []
    },
    {
      "cell_type": "code",
      "source": [
        "#==============================================#\n",
        "#======= Agente 2: Gerador de Perguntas =======#\n",
        "#==============================================#\n",
        "def agente_gerador_quiz(informacoes: str, disciplina: str, turma: str) -> str:\n",
        "    \"\"\"Gera as perguntas do quiz (retorna string para revisão).\"\"\"\n",
        "    gerador = Agent(\n",
        "        name=\"agente_gerador_quiz\",\n",
        "        model=\"gemini-2.0-flash\",\n",
        "        instruction=\"\"\"\n",
        "        Você é um especialista em elaboração de perguntas para quizzes educativos. Sua tarefa é analisar as informações\n",
        "        fornecidas sobre um determinado conteúdo da disciplina [disciplina] para a turma [turma].\n",
        "        Com base nessas informações, formule **apenas 10 possíveis perguntas, não pode ter mais** relevantes para o conteúdo\n",
        "        e adequadas ao nível de ensino da turma. Atenção! as perguntas devem ser de marcar, não pode ser resposta escrita.\n",
        "        Para cada pergunta, apresente a pergunta de forma clara e concisa. **Não inclua as opções de resposta ou a resposta\n",
        "        correta nesta etapa.**\n",
        "        Fomate a saída como uma lista numerada de perguntas, onde cada pergunta aparece em uma nova linha.\n",
        "        \"\"\",\n",
        "        description=\"Agente que gera perguntas de quiz\",\n",
        "    )\n",
        "    entrada = f\"Informações: {informacoes}\\nDisciplina: {disciplina}\\nTurma: {turma}\"\n",
        "    quiz = call_agent(gerador, entrada)\n",
        "    return quiz"
      ],
      "metadata": {
        "id": "U9H5G5Pa5toE"
      },
      "execution_count": null,
      "outputs": []
    },
    {
      "cell_type": "code",
      "source": [
        "#==============================================#\n",
        "#======= Agente 3: Revisor de Perguntas =======#\n",
        "#==============================================#\n",
        "def agente_revisor_formatador(quiz: str) -> str:\n",
        "    \"\"\"Revisa a qualidade das perguntas e formata as questões\"\"\"\n",
        "\n",
        "    revisor = Agent(\n",
        "        name=\"agente_revisor\",\n",
        "        model=\"gemini-2.0-flash\",\n",
        "        instruction=\"\"\"\n",
        "        Você é um revisor e seletor de perguntas para quizzes educativos.\n",
        "        Sua tarefa é analisar a lista de perguntas fornecida, geradas com base no conteúdo [conteudo] para\n",
        "        a disciplina de [disciplina] da turma [turma].\n",
        "        Para cada pergunta, avalie se ela é clara, concisa, gramaticalmente correta e adequada ao nível de ensino da turma.\n",
        "        Verifique se a pergunta é relevante para o conteúdo especificado. Após a análise, selecione as perguntas que você\n",
        "        considera mais adequadas e de maior qualidade para formar um quiz eficaz para esta turma e conteúdo. As perguntas\n",
        "        selecionadas devem cobrir os aspectos mais importantes do tema.\n",
        "        A saída deve ser formatada para ser facilmente lido.\n",
        "        Adicione numeração para cada pergunta (Questão X) e letras (A, B, C, D, E) para cada opção de resposta.\n",
        "        \"\"\",\n",
        "        description=\"Agente que revisa a qualidade do quiz\"\n",
        "    )\n",
        "    entrada = f\"Quiz: {quiz}\"\n",
        "    quiz_revisado_formatado = call_agent(revisor, entrada)\n",
        "    return quiz_revisado_formatado"
      ],
      "metadata": {
        "id": "GNRPC5qI5ym0"
      },
      "execution_count": null,
      "outputs": []
    },
    {
      "cell_type": "code",
      "source": [
        "#==============================================#\n",
        "#======= Agente 4: Formatador de Quiz =========#\n",
        "#==============================================#\n",
        "def agente_solucionador(quiz_revisado: str) -> str:\n",
        "    \"\"\"Formata o quiz revisado para apresentação.\"\"\"\n",
        "    formatador = Agent(\n",
        "        name=\"agente_formatador_quiz\",\n",
        "        model=\"gemini-2.0-flash\",\n",
        "        instruction=\"\"\"\n",
        "        Você é um solucionador de quiz.\n",
        "        Você vai analisar o quiz elaborado e solucioná-lo, apresentando as opções corretas de cada questão anteriormente elaborada.\n",
        "        \"\"\",\n",
        "        description=\"Agente que formata o quiz revisado para apresentação\"\n",
        "    )\n",
        "    entrada = f\"Quiz Revisado: {quiz_revisado}\"\n",
        "    quiz_solucionado = call_agent(formatador, entrada)\n",
        "    return quiz_solucionado"
      ],
      "metadata": {
        "id": "qCsgyLg95v-0"
      },
      "execution_count": null,
      "outputs": []
    },
    {
      "cell_type": "code",
      "source": [
        "#==============================================#\n",
        "#======= Agente 5: Explicador de Quiz =========#\n",
        "#==============================================#\n",
        "def agente_gerador_explicacoes(quiz_revisado: str, quiz_solucionado: str, conteudo: str) -> str:\n",
        "    \"\"\"Gera explicações detalhadas para as respostas corretas e incorretas do quiz.\"\"\"\n",
        "    gerador_explicacoes = Agent(\n",
        "        name=\"agente_gerador_explicacoes\",\n",
        "        model=\"gemini-2.0-flash\",\n",
        "        instruction=f\"\"\"\n",
        "        Você é um especialista em fornecer explicações detalhadas para quizzes educacionais.\n",
        "        Com base no quiz revisado: \"{quiz_revisado}\" e na sua solução: \"{quiz_solucionado}\",\n",
        "        para o conteúdo de \"{conteudo}\", sua tarefa é gerar explicações claras e concisas para cada questão.\n",
        "\n",
        "        Para cada questão, você deve:\n",
        "        1. Indicar qual é a alternativa correta.\n",
        "        2. Explicar o raciocínio por trás da resposta correta, detalhando o conceito ou princípio envolvido.\n",
        "        3. Para cada uma das alternativas incorretas, explicar por que elas estão erradas, identificando o erro conceitual ou a informação incorreta que elas apresentam.\n",
        "        4. Mantenha um tom didático e acessível, visando a compreensão do aluno.\n",
        "\n",
        "        Formato de saída desejado:\n",
        "        Questão 1:\n",
        "        - Correta: [Letra da alternativa correta] - [Explicação da resposta correta]\n",
        "        - Incorretas:\n",
        "          - [Letra da alternativa incorreta]: [Explicação de por que está incorreta]\n",
        "          - [Letra da alternativa incorreta]: [Explicação de por que está incorreta]\n",
        "          - [Letra da alternativa incorreta]: [Explicação de por que está incorreta]\n",
        "\n",
        "        Questão 2:\n",
        "        - Correta: ...\n",
        "        - Incorretas:\n",
        "          - ...\n",
        "          - ...\n",
        "          - ...\n",
        "\n",
        "        ... e assim por diante para todas as questões do quiz.\n",
        "        \"\"\",\n",
        "        description=\"Agente que gera explicações detalhadas para as respostas do quiz\"\n",
        "    )\n",
        "    entrada = f\"Quiz Revisado: {quiz_revisado}\\nSolução do Quiz: {quiz_solucionado}\\nConteúdo: {conteudo}\"\n",
        "    explicacoes_detalhadas = call_agent(gerador_explicacoes, entrada)\n",
        "    return explicacoes_detalhadas"
      ],
      "metadata": {
        "id": "lz_iHeIhPlG5"
      },
      "execution_count": null,
      "outputs": []
    },
    {
      "cell_type": "code",
      "source": [
        "#==============================================#\n",
        "#======= Agente 6: Indicador de Fontes ========#\n",
        "#==============================================#\n",
        "def agente_indicador_fontes(quiz_original: str, conteudo_pesquisado: str) -> str:\n",
        "    \"\"\"Sugere as possíveis fontes de onde as questões do quiz podem ter sido elaboradas.\"\"\"\n",
        "    sugestor_fontes = Agent(\n",
        "        name=\"agente_sugestor_fontes\",\n",
        "        model=\"gemini-2.0-flash\",\n",
        "        instruction=f\"\"\"\n",
        "        Você é um especialista em sugerir fontes para a elaboração de quizzes educacionais.\n",
        "        Com base no seguinte quiz original: \"{quiz_original}\" e no conteúdo pesquisado: \"{conteudo_pesquisado}\",\n",
        "        sua tarefa é indicar as fontes prováveis que um professor ou criador de conteúdo utilizaria para elaborar essas questões.\n",
        "        Liste as sugestões de fontes, como:\n",
        "        - Livros didáticos relevantes para \"{conteudo_pesquisado}\" e a disciplina relacionada.\n",
        "        - Sites educacionais confiáveis que abordam o tema.\n",
        "        - Artigos acadêmicos ou de divulgação científica (se aplicável ao nível do quiz).\n",
        "        - Provas anteriores de vestibulares, concursos ou avaliações similares.\n",
        "        - Materiais de estudo e resumos sobre \"{conteudo_pesquisado}\".\n",
        "        Seja específico ao sugerir tipos de materiais e possíveis palavras-chave para encontrar essas fontes.\n",
        "        \"\"\",\n",
        "        description=\"Agente que sugere possíveis fontes para a elaboração do quiz\"\n",
        "    )\n",
        "    entrada = f\"Quiz Original: {quiz_original}\\nConteúdo Pesquisado: {conteudo_pesquisado}\"\n",
        "    fontes_sugeridas = call_agent(sugestor_fontes, entrada)\n",
        "    return fontes_sugeridas"
      ],
      "metadata": {
        "id": "FB0mpkTFNGVs"
      },
      "execution_count": null,
      "outputs": []
    },
    {
      "cell_type": "code",
      "source": [],
      "metadata": {
        "id": "Ofk3czauGWRM"
      },
      "execution_count": null,
      "outputs": []
    },
    {
      "cell_type": "code",
      "source": [],
      "metadata": {
        "id": "TbDO87P6fzEG"
      },
      "execution_count": null,
      "outputs": []
    },
    {
      "cell_type": "code",
      "source": [],
      "metadata": {
        "id": "Cr_aTlnNf0QG"
      },
      "execution_count": null,
      "outputs": []
    }
  ]
}